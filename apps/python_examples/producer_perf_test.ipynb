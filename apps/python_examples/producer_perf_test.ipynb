{
 "cells": [
  {
   "cell_type": "code",
   "execution_count": null,
   "id": "6e58b205-3ae3-4b07-bd74-f62a6207beec",
   "metadata": {},
   "outputs": [],
   "source": [
    "%run producer_customer.py -f etc/kafka-producer.properties -t nw.customers"
   ]
  },
  {
   "cell_type": "code",
   "execution_count": null,
   "id": "5166dd21-8f14-4dd1-b9f5-4193d42e73c7",
   "metadata": {},
   "outputs": [],
   "source": [
    "%run producer_order.py -f  etc/kafka-producer.properties -t nw.orders"
   ]
  }
 ],
 "metadata": {
  "kernelspec": {
   "display_name": "Python 3 (ipykernel)",
   "language": "python",
   "name": "python3"
  },
  "language_info": {
   "codemirror_mode": {
    "name": "ipython",
    "version": 3
   },
   "file_extension": ".py",
   "mimetype": "text/x-python",
   "name": "python",
   "nbconvert_exporter": "python",
   "pygments_lexer": "ipython3",
   "version": "3.9.13"
  }
 },
 "nbformat": 4,
 "nbformat_minor": 5
}
