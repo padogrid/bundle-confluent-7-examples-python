{
 "cells": [
  {
   "cell_type": "markdown",
   "id": "d085b1ba-bc07-49d3-9d11-636506293300",
   "metadata": {},
   "source": [
    "\n",
    "## Subscribe topic: `nw.customers`. This program blocks and listens on topic messages.\n"
   ]
  },
  {
   "cell_type": "code",
   "execution_count": null,
   "id": "d0c1769b-3566-4a4f-87e4-a8cd940c9e6f",
   "metadata": {},
   "outputs": [],
   "source": [
    "%run consumer_perf_test.py -f etc/kafka-consumer.properties -t nw.customers"
   ]
  },
  {
   "cell_type": "markdown",
   "id": "2f060f13-ce05-4560-9419-3515b67c4584",
   "metadata": {},
   "source": [
    "\n",
    "---\n",
    "\n",
    "## Subscribe topic: `nw.orders`. This program blocks and listens on topic messages."
   ]
  },
  {
   "cell_type": "code",
   "execution_count": null,
   "id": "9168e835-1cc6-4ae4-a1d9-faadfab0134e",
   "metadata": {},
   "outputs": [],
   "source": [
    "%run consumer_perf_test.py -f etc/kafka-consumer.properties -t nw.orders"
   ]
  }
 ],
 "metadata": {
  "kernelspec": {
   "display_name": "Python 3 (ipykernel)",
   "language": "python",
   "name": "python3"
  },
  "language_info": {
   "codemirror_mode": {
    "name": "ipython",
    "version": 3
   },
   "file_extension": ".py",
   "mimetype": "text/x-python",
   "name": "python",
   "nbconvert_exporter": "python",
   "pygments_lexer": "ipython3",
   "version": "3.9.13"
  }
 },
 "nbformat": 4,
 "nbformat_minor": 5
}
