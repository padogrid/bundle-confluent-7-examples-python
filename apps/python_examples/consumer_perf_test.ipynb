{
 "cells": [
  {
   "cell_type": "code",
   "execution_count": 31,
   "id": "7941fadc-cc48-48bc-9dbe-e6ba3fc8e760",
   "metadata": {},
   "outputs": [],
   "source": [
    "%run consumer_perf_test.py -f etc/kafka-consumer.properties -t nw.customers"
   ]
  },
  {
   "cell_type": "code",
   "execution_count": 33,
   "id": "9168e835-1cc6-4ae4-a1d9-faadfab0134e",
   "metadata": {},
   "outputs": [
    {
     "name": "stdout",
     "output_type": "stream",
     "text": [
      "Waiting for message or event/error in poll()\n",
      "Waiting for message or event/error in poll()\n",
      "Waiting for message or event/error in poll()\n",
      "Waiting for message or event/error in poll()\n",
      "Waiting for message or event/error in poll()\n",
      "Waiting for message or event/error in poll()\n",
      "Waiting for message or event/error in poll()\n",
      "Waiting for message or event/error in poll()\n",
      "Waiting for message or event/error in poll()\n",
      "Waiting for message or event/error in poll()\n",
      "Waiting for message or event/error in poll()\n",
      "Waiting for message or event/error in poll()\n",
      "Waiting for message or event/error in poll()\n",
      "Waiting for message or event/error in poll()\n",
      "Waiting for message or event/error in poll()\n",
      "Waiting for message or event/error in poll()\n",
      "Waiting for message or event/error in poll()\n",
      "Waiting for message or event/error in poll()\n",
      "Waiting for message or event/error in poll()\n",
      "Waiting for message or event/error in poll()\n"
     ]
    }
   ],
   "source": [
    "%run consumer_perf_test.py -f etc/kafka-consumer.properties -t nw.orders"
   ]
  },
  {
   "cell_type": "code",
   "execution_count": null,
   "id": "7b59bc8a-23c1-42d1-8f08-355240797679",
   "metadata": {},
   "outputs": [],
   "source": []
  }
 ],
 "metadata": {
  "kernelspec": {
   "display_name": "Python 3 (ipykernel)",
   "language": "python",
   "name": "python3"
  },
  "language_info": {
   "codemirror_mode": {
    "name": "ipython",
    "version": 3
   },
   "file_extension": ".py",
   "mimetype": "text/x-python",
   "name": "python",
   "nbconvert_exporter": "python",
   "pygments_lexer": "ipython3",
   "version": "3.9.13"
  }
 },
 "nbformat": 4,
 "nbformat_minor": 5
}
